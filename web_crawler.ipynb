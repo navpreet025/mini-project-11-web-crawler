{
  "nbformat": 4,
  "nbformat_minor": 0,
  "metadata": {
    "colab": {
      "provenance": [],
      "authorship_tag": "ABX9TyNUR4yVCzJa2xWqHLpn76eg",
      "include_colab_link": true
    },
    "kernelspec": {
      "name": "python3",
      "display_name": "Python 3"
    },
    "language_info": {
      "name": "python"
    }
  },
  "cells": [
    {
      "cell_type": "markdown",
      "metadata": {
        "id": "view-in-github",
        "colab_type": "text"
      },
      "source": [
        "<a href=\"https://colab.research.google.com/github/navpreet025/mini-project-11-web-crawler/blob/main/web_crawler.ipynb\" target=\"_parent\"><img src=\"https://colab.research.google.com/assets/colab-badge.svg\" alt=\"Open In Colab\"/></a>"
      ]
    },
    {
      "cell_type": "code",
      "source": [
        "# Step 1: Install required packages\n",
        "!pip install beautifulsoup4 lxml tqdm\n",
        "\n",
        "# Step 2: Import modules\n",
        "import re\n",
        "import requests\n",
        "from bs4 import BeautifulSoup\n",
        "from tqdm import tqdm\n",
        "import urllib3\n",
        "\n",
        "# Step 3: Disable SSL warnings (safe for scraping public sites)\n",
        "urllib3.disable_warnings(urllib3.exceptions.InsecureRequestWarning)\n",
        "\n",
        "# Step 4: Load the sitemap with SSL verification disabled\n",
        "sitemap_url = 'https://www.thapar.edu/sitemap.xml'\n",
        "response = requests.get(sitemap_url, verify=False)\n",
        "soup = BeautifulSoup(response.content, 'xml')\n",
        "\n",
        "# Step 5: Extract all URLs from sitemap\n",
        "urls = [loc.text for loc in soup.find_all('loc')]\n",
        "\n",
        "# Step 6: Crawl each page and extract emails\n",
        "email_set = set()\n",
        "\n",
        "for url in tqdm(urls[:50]):  # Adjust limit as needed\n",
        "    try:\n",
        "        page = requests.get(url, timeout=5, verify=False)\n",
        "        text = page.text\n",
        "        emails = re.findall(r'[a-zA-Z0-9._%+-]+@[a-zA-Z0-9.-]+\\.[a-zA-Z]{2,}', text)\n",
        "        email_set.update(emails)\n",
        "    except Exception as e:\n",
        "        print(f\"❌ Error scraping {url}: {e}\")\n",
        "\n",
        "# Step 7: Display results\n",
        "print(f\"\\n✅ Found {len(email_set)} unique emails:\\n\")\n",
        "for email in sorted(email_set):\n",
        "    print(email)\n"
      ],
      "metadata": {
        "colab": {
          "base_uri": "https://localhost:8080/"
        },
        "id": "CoqLRYnN8QQf",
        "outputId": "1074cff3-bcd9-4504-fdb4-8abccf970241"
      },
      "execution_count": 2,
      "outputs": [
        {
          "output_type": "stream",
          "name": "stdout",
          "text": [
            "Requirement already satisfied: beautifulsoup4 in /usr/local/lib/python3.11/dist-packages (4.13.4)\n",
            "Requirement already satisfied: lxml in /usr/local/lib/python3.11/dist-packages (5.4.0)\n",
            "Requirement already satisfied: tqdm in /usr/local/lib/python3.11/dist-packages (4.67.1)\n",
            "Requirement already satisfied: soupsieve>1.2 in /usr/local/lib/python3.11/dist-packages (from beautifulsoup4) (2.7)\n",
            "Requirement already satisfied: typing-extensions>=4.0.0 in /usr/local/lib/python3.11/dist-packages (from beautifulsoup4) (4.14.0)\n"
          ]
        },
        {
          "output_type": "stream",
          "name": "stderr",
          "text": [
            "100%|██████████| 50/50 [01:26<00:00,  1.73s/it]"
          ]
        },
        {
          "output_type": "stream",
          "name": "stdout",
          "text": [
            "\n",
            "✅ Found 59 unique emails:\n",
            "\n",
            "-ajaykumar@thapar.edu\n",
            "-karun.verma@thapar.edu\n",
            "admissions@thapar.edu\n",
            "application.support@thapar.edu\n",
            "caretaker.a@thapar.edu\n",
            "caretaker.b@thapar.edu\n",
            "caretaker.c@thapar.edu\n",
            "caretaker.d@thapar.edu\n",
            "caretaker.e@thapar.edu\n",
            "caretaker.frfg@thapar.edu\n",
            "caretaker.g@thapar.edu\n",
            "caretaker.h@thapar.edu\n",
            "caretaker.i@thapar.edu\n",
            "caretaker.j@thapar.edu\n",
            "caretaker.k@thapar.edu\n",
            "caretaker.l@thapar.edu\n",
            "caretaker.m@thapar.edu\n",
            "caretaker.n@thapar.edu\n",
            "caretaker.o@thapar.edu\n",
            "caretaker.pg@thapar.edu\n",
            "caretaker.q@thapar.edu\n",
            "ddct@thapar.edu\n",
            "dean.outreach@thapar.edu\n",
            "dean.sustainability@thapar.edu\n",
            "deputydirector@thapar.edu\n",
            "director@thapar.edu\n",
            "doaa@thapar.edu\n",
            "dofa@thapar.edu\n",
            "dopa@thapar.edu\n",
            "dorsp@thapar.edu\n",
            "dosa@thapar.edu\n",
            "dydirector1@thapar.edu\n",
            "info@thapar.edu\n",
            "khushneet.jindal@thapar.edu\n",
            "mba_admission@thapar.edu\n",
            "ranking@thapar.edu\n",
            "registrar@thapar.edu\n",
            "ruchi@thapar.edu\n",
            "technical_support@thapar.edu\n",
            "thapar@thapar.edu\n",
            "tpo@thapar.edu\n",
            "warden.k@thapar.edu\n",
            "warden.o@thapar.edu\n",
            "wardena@thapar.edu\n",
            "wardenb@thapar.edu\n",
            "wardenc@thapar.edu\n",
            "wardend@thapar.edu\n",
            "wardene@thapar.edu\n",
            "wardeng@thapar.edu\n",
            "wardenh@thapar.edu\n",
            "wardeni@thapar.edu\n",
            "wardenj@thapar.edu\n",
            "wardenl@thapar.edu\n",
            "wardenm1@thapar.edu\n",
            "wardenm2@thapar.edu\n",
            "wardenmfrfg@thapar.edu\n",
            "wardenn@thapar.edu\n",
            "wardenpg@thapar.edu\n",
            "wardenq@thapar.edu\n"
          ]
        },
        {
          "output_type": "stream",
          "name": "stderr",
          "text": [
            "\n"
          ]
        }
      ]
    }
  ]
}